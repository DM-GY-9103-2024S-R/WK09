{
  "cells": [
    {
      "cell_type": "markdown",
      "metadata": {
        "id": "QshK8s21WBrf"
      },
      "source": [
        "# Week 09"
      ]
    },
    {
      "cell_type": "markdown",
      "metadata": {
        "id": "7Hf8SXUwWOho"
      },
      "source": [
        "## Setup\n",
        "\n",
        "Run the following 2 cells to import all necessary libraries and helpers for this week's exercises"
      ]
    },
    {
      "cell_type": "code",
      "execution_count": null,
      "metadata": {},
      "outputs": [],
      "source": [
        "!wget -q https://github.com/DM-GY-9103-2024S-R/9103-utils/raw/main/src/io_utils.py"
      ]
    },
    {
      "cell_type": "code",
      "execution_count": null,
      "metadata": {},
      "outputs": [],
      "source": [
        "import matplotlib.pyplot as plt\n",
        "import numpy as np\n",
        "import wave\n",
        "\n",
        "from IPython.display import Audio\n",
        "\n",
        "from io_utils import wav_to_list, list_to_wav"
      ]
    },
    {
      "cell_type": "markdown",
      "metadata": {
        "id": "prKGt8bzScNA"
      },
      "source": [
        "## Digital Audio\n",
        "\n",
        "Air pressure waves converted to electrical pulses, which are then sampled and turned into a sequence of numbers.\n",
        "\n",
        "<img src=\"./imgs/audio-00.jpg\" width=\"720px\">"
      ]
    },
    {
      "cell_type": "markdown",
      "metadata": {},
      "source": [
        "### Playing an audio file\n",
        "\n",
        "Easy !"
      ]
    },
    {
      "cell_type": "code",
      "execution_count": null,
      "metadata": {},
      "outputs": [],
      "source": [
        "display(Audio(\"./data/two-bits.wav\"))\n",
        "display(Audio(\"./data/horn.wav\"))"
      ]
    },
    {
      "cell_type": "markdown",
      "metadata": {},
      "source": [
        "### Loading an audio file for analysis, manipulation, etc\n",
        "\n",
        "is a bit more work"
      ]
    },
    {
      "cell_type": "code",
      "execution_count": null,
      "metadata": {},
      "outputs": [],
      "source": [
        "sound_file_path = \"./data/air-horn.wav\"\n",
        "with wave.open(sound_file_path, mode=\"rb\") as wav_in:\n",
        "  print(wav_in.getparams())\n",
        "\n",
        "display(Audio(sound_file_path))"
      ]
    },
    {
      "cell_type": "markdown",
      "metadata": {},
      "source": [
        "### Audio length, channels, samples, rate, depth\n",
        "\n",
        "<img src=\"./imgs/audio-01.jpg\" width=\"720px\">\n",
        "\n",
        "`Audio length`: The duration of an audio file in seconds.\n",
        "\n",
        "`Channels`: The different signals that make up an audio file.\n",
        "\n",
        "`Samples`: List of numbers that represent the quantized amplitude of an audio signal.\n",
        "\n",
        "`Frame`: Collection of samples from all channels at a given time. $Number\\ of\\ Frames = \\frac{Number\\ of\\ Samples}{Number\\ of\\ Channels}$\n",
        "\n",
        "`Sample Rate`: How many times per second the original audio signal was recorded. $Sample\\ Rate = \\frac{Number\\ of\\ Samples}{Audio\\ Length}$\n",
        "\n",
        "`Bit Depth` / `Sample Width`: How many different unique numbers are used to represent a sample."
      ]
    },
    {
      "cell_type": "markdown",
      "metadata": {},
      "source": [
        "### Getting sample values\n",
        "\n",
        "We first have to open a `.wav` file with `wave.open()` to get a file object.\n",
        "\n",
        "We then use the file object `wav_in` to read the file's contents into a buffer of `bytes` with the `wav_in.readframes()` function.\n",
        "\n",
        "We use the `frombuffer()` function to turn `bytes` into `integers`.\n",
        "\n",
        "And, finally, we can use `list()` to put it all inside a regular Python list.\n",
        "\n",
        "<img src=\"./imgs/audio-02.jpg\" width=\"720px\">\n",
        "\n",
        "# 😫\n",
        "\n",
        "That's a lot of cryptic lines of code just to open a file and get a list of numbers !"
      ]
    },
    {
      "cell_type": "code",
      "execution_count": null,
      "metadata": {},
      "outputs": [],
      "source": [
        "sound_file_path = \"./data/western.wav\"\n",
        "with wave.open(sound_file_path, mode=\"rb\") as wav_in:\n",
        "  read_buffer = wav_in.readframes(wav_in.getnframes())\n",
        "  my_samples = list(np.frombuffer(read_buffer, dtype=np.int16))\n",
        "\n",
        "print(wav_in.getparams())\n",
        "print(\"length:\", wav_in.getnframes() / wav_in.getframerate())\n",
        "print(len(my_samples))\n",
        "print(my_samples[:16])\n",
        "print(min(my_samples), max(my_samples))"
      ]
    },
    {
      "cell_type": "markdown",
      "metadata": {},
      "source": [
        "### Visualizing\n",
        "\n",
        "At least we can visualize and play it from the list of samples."
      ]
    },
    {
      "cell_type": "code",
      "execution_count": null,
      "metadata": {},
      "outputs": [],
      "source": [
        "plt.plot(my_samples)\n",
        "plt.show()\n",
        "\n",
        "display(Audio(my_samples, rate=44100))"
      ]
    },
    {
      "cell_type": "markdown",
      "metadata": {},
      "source": [
        "# 😫😫\n",
        "\n",
        "For sound files with more than one channel, the `Audio()` function expects the samples in a format that is different from the one returned by `wave.open()` and `wave.readframes()`.\n",
        "\n",
        "Argh!\n",
        "\n",
        "We can give `Audio()` every other sample to listen to just one of the channels:\n",
        "<br>`display(Audio(my_samples[::2], rate=44100))`\n",
        "\n",
        "But, it's better to use a function to read our wave files and return a single-channel array that combines all of the channels in an audio file."
      ]
    },
    {
      "cell_type": "code",
      "execution_count": null,
      "metadata": {},
      "outputs": [],
      "source": [
        "sound_file_path = \"./data/western.wav\"\n",
        "my_samples = wav_to_list(sound_file_path)\n",
        "\n",
        "print(len(my_samples))\n",
        "print(my_samples[:16])\n",
        "print(min(my_samples), max(my_samples))"
      ]
    },
    {
      "cell_type": "code",
      "execution_count": null,
      "metadata": {},
      "outputs": [],
      "source": [
        "plt.plot(my_samples)\n",
        "plt.show()\n",
        "\n",
        "display(Audio(my_samples, rate=44100))"
      ]
    },
    {
      "cell_type": "markdown",
      "metadata": {},
      "source": [
        "### Manipulating\n",
        "\n",
        "Once we have a list of samples we can process, analyze and manipulate the audio by performing list operations and simple arithmetics.\n",
        "\n",
        "<img src=\"./imgs/audio-02.jpg\" width=\"720px\">"
      ]
    },
    {
      "cell_type": "markdown",
      "metadata": {},
      "source": [
        "### Change volume\n",
        "\n",
        "To change the volume of an audio file all we have to do is multiply its samples by a constant.\n",
        "\n",
        "If the constant is greater than $1$ it will get louder, if it's between $0$ and $1$ it will get softer.\n",
        "\n",
        "<img src=\"./imgs/audio-04.jpg\" width=\"720px\">"
      ]
    },
    {
      "cell_type": "code",
      "execution_count": null,
      "metadata": {},
      "outputs": [],
      "source": [
        "sound_file_path = \"./data/air-horn.wav\"\n",
        "my_samples = wav_to_list(sound_file_path)\n",
        "\n",
        "plt.plot(my_samples)\n",
        "plt.show()\n",
        "display(Audio(sound_file_path))\n",
        "\n",
        "changed_samples = []\n",
        "for s in my_samples:\n",
        "  changed_samples.append(int(s * 0.15))\n",
        "changed_samples[0] = 2**15-1\n",
        "\n",
        "plt.plot(changed_samples)\n",
        "plt.show()\n",
        "display(Audio(changed_samples, rate=44100))"
      ]
    },
    {
      "cell_type": "markdown",
      "metadata": {},
      "source": [
        "### Change speed\n",
        "\n",
        "If we just duplicate each sample in our sequence, while keeping the sample rate the same, we'll end up with an audio file that is twice as long as the original.\n",
        "\n",
        "<img src=\"./imgs/audio-05.jpg\" width=\"720px\">\n",
        "\n",
        "And, conversely, if we remove every other sample, we'll get an audio signal that is half of the original length."
      ]
    },
    {
      "cell_type": "code",
      "execution_count": null,
      "metadata": {},
      "outputs": [],
      "source": [
        "sound_file_path = \"./data/horn.wav\"\n",
        "my_samples = wav_to_list(sound_file_path)\n",
        "\n",
        "plt.plot(my_samples)\n",
        "plt.show()\n",
        "display(Audio(sound_file_path))\n",
        "print(len(my_samples), \"samples\")\n",
        "\n",
        "double_samples = []\n",
        "for s in my_samples:\n",
        "  double_samples.append(s)\n",
        "  double_samples.append(s)\n",
        "\n",
        "plt.plot(double_samples)\n",
        "plt.show()\n",
        "display(Audio(double_samples, rate=44100))\n",
        "print(len(double_samples), \"samples\")\n",
        "\n",
        "half_samples = []\n",
        "for s in my_samples[::2]:\n",
        "  half_samples.append(s)\n",
        "\n",
        "plt.plot(half_samples)\n",
        "plt.show()\n",
        "display(Audio(half_samples, rate=44100))\n",
        "print(len(half_samples), \"samples\")"
      ]
    },
    {
      "cell_type": "markdown",
      "metadata": {},
      "source": [
        "### Reverse\n",
        "\n",
        "Flipping the order of the samples will make the audio sound backwards.\n",
        "\n",
        "<img src=\"./imgs/audio-06.jpg\" width=\"720px\">"
      ]
    },
    {
      "cell_type": "code",
      "execution_count": null,
      "metadata": {},
      "outputs": [],
      "source": [
        "sound_file_path = \"./data/two-bits.wav\"\n",
        "my_samples = wav_to_list(sound_file_path)\n",
        "\n",
        "plt.plot(my_samples)\n",
        "plt.show()\n",
        "display(Audio(sound_file_path))\n",
        "print(my_samples[:16])\n",
        "\n",
        "rev_samples = list(reversed(my_samples))\n",
        "\n",
        "plt.plot(rev_samples)\n",
        "plt.show()\n",
        "display(Audio(rev_samples, rate=44100))\n",
        "print(rev_samples[-16:])\n"
      ]
    },
    {
      "cell_type": "markdown",
      "metadata": {},
      "source": [
        "### Combining sounds\n",
        "\n",
        "To combine two audio signals, to have them play on top of each other, we just have to add every sample $S_{A_i}$ of our first audio file with it's corresponding sample in the second audio file $S_{B_i}$.\n",
        "\n",
        "<img src=\"./imgs/audio-07.jpg\" width=\"720px\">\n",
        "\n",
        "In this situation we can use the `zip()` function, which returns a sequence that is made up of pairs of elements from other sequences.\n",
        "\n",
        "For example, if we have:\n",
        "```python\n",
        "A = [10,11,12,13,14]\n",
        "B = [20,21,22,23,24]\n",
        "```\n",
        "\n",
        "then, `zip(A,B)` will give us this:\n",
        "```python\n",
        "[(10,20), (11,21), (12,22), (13,23), (14,24)]\n",
        "```\n",
        "\n",
        "It's like a zipper, where it builds its elements from one element of each of its arguments."
      ]
    },
    {
      "cell_type": "code",
      "execution_count": null,
      "metadata": {},
      "outputs": [],
      "source": [
        "two_bit_file_path = \"./data/two-bits.wav\"\n",
        "two_bit_samples = wav_to_list(two_bit_file_path)\n",
        "\n",
        "air_horn_file_path = \"./data/air-horn.wav\"\n",
        "air_horn_samples = wav_to_list(air_horn_file_path)\n",
        "\n",
        "plt.plot(two_bit_samples)\n",
        "plt.show()\n",
        "display(Audio(two_bit_file_path))\n",
        "print(len(two_bit_samples), \"samples\")\n",
        "\n",
        "plt.plot(air_horn_samples)\n",
        "plt.show()\n",
        "display(Audio(air_horn_file_path))\n",
        "print(len(air_horn_samples), \"samples\")\n",
        "\n",
        "sum_samples = []\n",
        "for s0, s1 in zip(two_bit_samples, air_horn_samples):\n",
        "  sum_samples.append((s0 + s1) / 2)\n",
        "\n",
        "plt.plot(sum_samples)\n",
        "plt.show()\n",
        "display(Audio(sum_samples, rate=44100))\n",
        "print(len(sum_samples), \"samples\")"
      ]
    },
    {
      "cell_type": "markdown",
      "metadata": {},
      "source": [
        "### Splicing\n",
        "\n",
        "Here we want to add the second wave after the first.\n",
        "\n",
        "In Python we can use addition to concatenate two lists:\n",
        "```python\n",
        "A = [0,1,2,3]\n",
        "B = [4,5,6,7]\n",
        "C = A + B\n",
        "```\n",
        "\n",
        "The `C` variable now holds `[0,1,2,3,4,5,6,7]`.\n",
        "\n",
        "We can also use slicing to select parts of the two sounds before adding them."
      ]
    },
    {
      "cell_type": "code",
      "execution_count": null,
      "metadata": {},
      "outputs": [],
      "source": [
        "two_bit_file_path = \"./data/two-bits.wav\"\n",
        "two_bit_samples = wav_to_list(two_bit_file_path)\n",
        "\n",
        "air_horn_file_path = \"./data/air-horn.wav\"\n",
        "air_horn_samples = wav_to_list(air_horn_file_path)\n",
        "\n",
        "plt.plot(two_bit_samples)\n",
        "plt.show()\n",
        "display(Audio(two_bit_file_path))\n",
        "print(len(two_bit_samples), \"samples\")\n",
        "\n",
        "plt.plot(air_horn_samples)\n",
        "plt.show()\n",
        "display(Audio(air_horn_file_path))\n",
        "print(len(air_horn_samples), \"samples\")\n",
        "\n",
        "sum_samples = two_bit_samples + air_horn_samples\n",
        "\n",
        "plt.plot(sum_samples)\n",
        "plt.show()\n",
        "display(Audio(sum_samples, rate=44100))\n",
        "print(len(sum_samples), \"samples\")\n",
        "\n",
        "end_idx = int(0.6 * len(two_bit_samples))\n",
        "sum_samples = two_bit_samples[:end_idx] + air_horn_samples\n",
        "\n",
        "plt.plot(sum_samples)\n",
        "plt.show()\n",
        "display(Audio(sum_samples, rate=44100))\n",
        "print(len(sum_samples), \"samples\")"
      ]
    },
    {
      "cell_type": "markdown",
      "metadata": {},
      "source": [
        "### Saving\n",
        "\n",
        "We can use the `list_to_wav()` function to save a sequence of samples to a mono `.wav` file."
      ]
    },
    {
      "cell_type": "code",
      "execution_count": null,
      "metadata": {},
      "outputs": [],
      "source": [
        "list_to_wav(sum_samples, \"out.wav\")"
      ]
    },
    {
      "cell_type": "markdown",
      "metadata": {},
      "source": [
        "## Images"
      ]
    },
    {
      "cell_type": "markdown",
      "metadata": {},
      "source": [
        "- load\n",
        "- show\n",
        "- get samples\n",
        "- manipulate"
      ]
    },
    {
      "cell_type": "code",
      "execution_count": null,
      "metadata": {
        "id": "L66UbgCWGDjF",
        "tags": []
      },
      "outputs": [],
      "source": []
    }
  ],
  "metadata": {
    "colab": {
      "authorship_tag": "ABX9TyPxe2qYxIG7EblrvD1C4Pmv",
      "provenance": []
    },
    "kernelspec": {
      "display_name": "Python 3.9.17 ('hf-model')",
      "language": "python",
      "name": "python3"
    },
    "language_info": {
      "codemirror_mode": {
        "name": "ipython",
        "version": 3
      },
      "file_extension": ".py",
      "mimetype": "text/x-python",
      "name": "python",
      "nbconvert_exporter": "python",
      "pygments_lexer": "ipython3",
      "version": "3.10.13"
    },
    "vscode": {
      "interpreter": {
        "hash": "89e384cab7c47fb35ec95d2248b519cf922ee174880eed636c26cdfb6c4df768"
      }
    }
  },
  "nbformat": 4,
  "nbformat_minor": 0
}
